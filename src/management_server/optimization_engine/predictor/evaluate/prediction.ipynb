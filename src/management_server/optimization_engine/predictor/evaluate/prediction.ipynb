{
  "cells": [
    {
      "cell_type": "code",
      "execution_count": 173,
      "metadata": {
        "id": "Eb3uGcU720jJ"
      },
      "outputs": [],
      "source": [
        "import os\n",
        "import boto3\n",
        "import sys\n",
        "from prophet import Prophet\n",
        "import matplotlib.pyplot as plt\n",
        "import datetime\n",
        "import pandas as pd\n",
        "\n"
      ]
    },
    {
      "cell_type": "code",
      "execution_count": 174,
      "metadata": {},
      "outputs": [],
      "source": [
        "instance_name = 't3.medium'"
      ]
    },
    {
      "cell_type": "code",
      "execution_count": 175,
      "metadata": {
        "id": "_-Sme1A02312"
      },
      "outputs": [],
      "source": [
        "results = []\n",
        "\n",
        "def history(client, instance, region_):\n",
        "    INSTANCE = instance\n",
        "    STARTTIME = (datetime.datetime.now() - datetime.timedelta(days=90)).isoformat()\n",
        "    \n",
        "    prices = client.describe_spot_price_history(\n",
        "        InstanceTypes=[INSTANCE],\n",
        "        ProductDescriptions=['Linux/UNIX'],\n",
        "        AvailabilityZone=\"{region_}a\".format(region_= region_),\n",
        "        StartTime=STARTTIME,\n",
        "        MaxResults=200\n",
        "    )\n",
        "    # print(\"Prices for region %s: %s\" % (region, prices[\"SpotPriceHistory\"]))\n",
        "    for price in prices[\"SpotPriceHistory\"]:\n",
        "        results.append({\n",
        "                        'Timestamp': price[\"Timestamp\"].strftime('%m-%d-%Y'), \n",
        "                        'Price': price[\"SpotPrice\"]\n",
        "                        })\n",
        "\n",
        "        \n",
        "    df = pd.DataFrame.from_dict(results)\n",
        "    df = df.rename(columns={'Timestamp': 'ds', 'Price': 'y'})\n",
        "    df = df.sort_values('y', ascending=False).drop_duplicates('ds').sort_values('ds').reset_index(drop=True)\n",
        "    \n",
        "    return df"
      ]
    },
    {
      "cell_type": "code",
      "execution_count": 176,
      "metadata": {
        "id": "9RNLkdUu23zD"
      },
      "outputs": [],
      "source": [
        "def interpolate(df):\n",
        "    # Split the data into train and test sets\n",
        "    # Train the model on the train set\n",
        "    model = Prophet(\n",
        "        daily_seasonality=True,\n",
        "        yearly_seasonality=False,\n",
        "    )\n",
        "    model.fit(df)\n",
        "\n",
        "    # Predict for the test set\n",
        "    future = model.make_future_dataframe(periods=1)\n",
        "    forecast = model.predict(future)\n",
        "    predicted_price = forecast['yhat'].iloc[-1]\n",
        "    return predicted_price"
      ]
    },
    {
      "cell_type": "code",
      "execution_count": 177,
      "metadata": {
        "id": "tIcjqUne3c4X"
      },
      "outputs": [],
      "source": [
        "def main(instance):\n",
        "    span = 30\n",
        "    region = \"us-east-1\"\n",
        "    client = boto3.client('ec2', region_name=region)\n",
        "    df = history(client, instance, region)\n",
        "    print(len(df))\n",
        "    bid_price = 0\n",
        "    for i in range(len(df) - span):\n",
        "        print(f'Itertaion: {i}')\n",
        "        new_df = df.iloc[i:i+span]\n",
        "        print(f' new df start: {new_df.iloc[0]}')\n",
        "        print(f' new df end: {new_df.iloc[-1]}')\n",
        "        price = interpolate(new_df)\n",
        "        df.loc[i+span, 'yhat'] = round(price + price*0.05, 4)\n",
        "        if(i == 0 or bid_price <= float(df.loc[i+span, 'y'])):\n",
        "            bid_price = round(price + price*0.05, 4)\n",
        "        df.loc[i+span, 'bidding_price'] = bid_price\n",
        "    print(df)\n",
        "    return df"
      ]
    },
    {
      "cell_type": "code",
      "execution_count": 178,
      "metadata": {
        "colab": {
          "base_uri": "https://localhost:8080/",
          "height": 363
        },
        "id": "0J7LByWh27e4",
        "outputId": "b2bca6b4-aa13-42e5-950d-24bd64ed0ca2"
      },
      "outputs": [
        {
          "name": "stderr",
          "output_type": "stream",
          "text": [
            "INFO:prophet:n_changepoints greater than number of observations. Using 23.\n"
          ]
        },
        {
          "name": "stdout",
          "output_type": "stream",
          "text": [
            "71\n",
            "Itertaion: 0\n",
            " new df start: ds    04-01-2023\n",
            "y       0.027900\n",
            "Name: 0, dtype: object\n",
            " new df end: ds    04-30-2023\n",
            "y       0.035400\n",
            "Name: 29, dtype: object\n"
          ]
        },
        {
          "name": "stderr",
          "output_type": "stream",
          "text": [
            "INFO:prophet:n_changepoints greater than number of observations. Using 23.\n"
          ]
        },
        {
          "name": "stdout",
          "output_type": "stream",
          "text": [
            "Itertaion: 1\n",
            " new df start: ds               04-02-2023\n",
            "y                  0.029100\n",
            "yhat                    NaN\n",
            "bidding_price           NaN\n",
            "Name: 1, dtype: object\n",
            " new df end: ds               05-01-2023\n",
            "y                  0.035000\n",
            "yhat                 0.0374\n",
            "bidding_price        0.0374\n",
            "Name: 30, dtype: object\n"
          ]
        },
        {
          "name": "stderr",
          "output_type": "stream",
          "text": [
            "INFO:prophet:n_changepoints greater than number of observations. Using 23.\n"
          ]
        },
        {
          "name": "stdout",
          "output_type": "stream",
          "text": [
            "Itertaion: 2\n",
            " new df start: ds               04-03-2023\n",
            "y                  0.031100\n",
            "yhat                    NaN\n",
            "bidding_price           NaN\n",
            "Name: 2, dtype: object\n",
            " new df end: ds               05-02-2023\n",
            "y                  0.035300\n",
            "yhat                 0.0373\n",
            "bidding_price        0.0374\n",
            "Name: 31, dtype: object\n"
          ]
        },
        {
          "name": "stderr",
          "output_type": "stream",
          "text": [
            "INFO:prophet:n_changepoints greater than number of observations. Using 23.\n"
          ]
        },
        {
          "name": "stdout",
          "output_type": "stream",
          "text": [
            "Itertaion: 3\n",
            " new df start: ds               04-04-2023\n",
            "y                  0.032400\n",
            "yhat                    NaN\n",
            "bidding_price           NaN\n",
            "Name: 3, dtype: object\n",
            " new df end: ds               05-03-2023\n",
            "y                  0.034800\n",
            "yhat                 0.0371\n",
            "bidding_price        0.0374\n",
            "Name: 32, dtype: object\n"
          ]
        },
        {
          "name": "stderr",
          "output_type": "stream",
          "text": [
            "INFO:prophet:n_changepoints greater than number of observations. Using 23.\n"
          ]
        },
        {
          "name": "stdout",
          "output_type": "stream",
          "text": [
            "Itertaion: 4\n",
            " new df start: ds               04-05-2023\n",
            "y                  0.032900\n",
            "yhat                    NaN\n",
            "bidding_price           NaN\n",
            "Name: 4, dtype: object\n",
            " new df end: ds               05-04-2023\n",
            "y                  0.035200\n",
            "yhat                  0.037\n",
            "bidding_price        0.0374\n",
            "Name: 33, dtype: object\n"
          ]
        },
        {
          "name": "stderr",
          "output_type": "stream",
          "text": [
            "INFO:prophet:n_changepoints greater than number of observations. Using 23.\n"
          ]
        },
        {
          "name": "stdout",
          "output_type": "stream",
          "text": [
            "Itertaion: 5\n",
            " new df start: ds               04-06-2023\n",
            "y                  0.034200\n",
            "yhat                    NaN\n",
            "bidding_price           NaN\n",
            "Name: 5, dtype: object\n",
            " new df end: ds               05-05-2023\n",
            "y                  0.035200\n",
            "yhat                 0.0371\n",
            "bidding_price        0.0374\n",
            "Name: 34, dtype: object\n"
          ]
        },
        {
          "name": "stderr",
          "output_type": "stream",
          "text": [
            "INFO:prophet:n_changepoints greater than number of observations. Using 23.\n"
          ]
        },
        {
          "name": "stdout",
          "output_type": "stream",
          "text": [
            "Itertaion: 6\n",
            " new df start: ds               04-07-2023\n",
            "y                  0.035000\n",
            "yhat                    NaN\n",
            "bidding_price           NaN\n",
            "Name: 6, dtype: object\n",
            " new df end: ds               05-06-2023\n",
            "y                  0.035200\n",
            "yhat                 0.0372\n",
            "bidding_price        0.0374\n",
            "Name: 35, dtype: object\n"
          ]
        },
        {
          "name": "stderr",
          "output_type": "stream",
          "text": [
            "INFO:prophet:n_changepoints greater than number of observations. Using 23.\n"
          ]
        },
        {
          "name": "stdout",
          "output_type": "stream",
          "text": [
            "Itertaion: 7\n",
            " new df start: ds               04-08-2023\n",
            "y                  0.034900\n",
            "yhat                    NaN\n",
            "bidding_price           NaN\n",
            "Name: 7, dtype: object\n",
            " new df end: ds               05-07-2023\n",
            "y                  0.035100\n",
            "yhat                 0.0371\n",
            "bidding_price        0.0374\n",
            "Name: 36, dtype: object\n"
          ]
        },
        {
          "name": "stderr",
          "output_type": "stream",
          "text": [
            "INFO:prophet:n_changepoints greater than number of observations. Using 23.\n"
          ]
        },
        {
          "name": "stdout",
          "output_type": "stream",
          "text": [
            "Itertaion: 8\n",
            " new df start: ds               04-09-2023\n",
            "y                  0.034800\n",
            "yhat                    NaN\n",
            "bidding_price           NaN\n",
            "Name: 8, dtype: object\n",
            " new df end: ds               05-08-2023\n",
            "y                  0.035500\n",
            "yhat                 0.0368\n",
            "bidding_price        0.0374\n",
            "Name: 37, dtype: object\n"
          ]
        },
        {
          "name": "stderr",
          "output_type": "stream",
          "text": [
            "INFO:prophet:n_changepoints greater than number of observations. Using 23.\n"
          ]
        },
        {
          "name": "stdout",
          "output_type": "stream",
          "text": [
            "Itertaion: 9\n",
            " new df start: ds               04-10-2023\n",
            "y                  0.034500\n",
            "yhat                    NaN\n",
            "bidding_price           NaN\n",
            "Name: 9, dtype: object\n",
            " new df end: ds               05-09-2023\n",
            "y                  0.035700\n",
            "yhat                  0.037\n",
            "bidding_price        0.0374\n",
            "Name: 38, dtype: object\n"
          ]
        },
        {
          "name": "stderr",
          "output_type": "stream",
          "text": [
            "INFO:prophet:n_changepoints greater than number of observations. Using 23.\n"
          ]
        },
        {
          "name": "stdout",
          "output_type": "stream",
          "text": [
            "Itertaion: 10\n",
            " new df start: ds               04-11-2023\n",
            "y                  0.034700\n",
            "yhat                    NaN\n",
            "bidding_price           NaN\n",
            "Name: 10, dtype: object\n",
            " new df end: ds               05-10-2023\n",
            "y                  0.035700\n",
            "yhat                  0.037\n",
            "bidding_price        0.0374\n",
            "Name: 39, dtype: object\n"
          ]
        },
        {
          "name": "stderr",
          "output_type": "stream",
          "text": [
            "INFO:prophet:n_changepoints greater than number of observations. Using 23.\n"
          ]
        },
        {
          "name": "stdout",
          "output_type": "stream",
          "text": [
            "Itertaion: 11\n",
            " new df start: ds               04-12-2023\n",
            "y                  0.034500\n",
            "yhat                    NaN\n",
            "bidding_price           NaN\n",
            "Name: 11, dtype: object\n",
            " new df end: ds               05-11-2023\n",
            "y                  0.035700\n",
            "yhat                 0.0374\n",
            "bidding_price        0.0374\n",
            "Name: 40, dtype: object\n"
          ]
        },
        {
          "name": "stderr",
          "output_type": "stream",
          "text": [
            "INFO:prophet:n_changepoints greater than number of observations. Using 23.\n"
          ]
        },
        {
          "name": "stdout",
          "output_type": "stream",
          "text": [
            "Itertaion: 12\n",
            " new df start: ds               04-13-2023\n",
            "y                  0.034700\n",
            "yhat                    NaN\n",
            "bidding_price           NaN\n",
            "Name: 12, dtype: object\n",
            " new df end: ds               05-12-2023\n",
            "y                  0.035300\n",
            "yhat                 0.0376\n",
            "bidding_price        0.0374\n",
            "Name: 41, dtype: object\n"
          ]
        },
        {
          "name": "stderr",
          "output_type": "stream",
          "text": [
            "INFO:prophet:n_changepoints greater than number of observations. Using 23.\n"
          ]
        },
        {
          "name": "stdout",
          "output_type": "stream",
          "text": [
            "Itertaion: 13\n",
            " new df start: ds               04-14-2023\n",
            "y                  0.034200\n",
            "yhat                    NaN\n",
            "bidding_price           NaN\n",
            "Name: 13, dtype: object\n",
            " new df end: ds               05-13-2023\n",
            "y                  0.035700\n",
            "yhat                 0.0377\n",
            "bidding_price        0.0374\n",
            "Name: 42, dtype: object\n"
          ]
        },
        {
          "name": "stderr",
          "output_type": "stream",
          "text": [
            "INFO:prophet:n_changepoints greater than number of observations. Using 23.\n"
          ]
        },
        {
          "name": "stdout",
          "output_type": "stream",
          "text": [
            "Itertaion: 14\n",
            " new df start: ds               04-15-2023\n",
            "y                  0.034600\n",
            "yhat                    NaN\n",
            "bidding_price           NaN\n",
            "Name: 14, dtype: object\n",
            " new df end: ds               05-14-2023\n",
            "y                  0.035500\n",
            "yhat                 0.0377\n",
            "bidding_price        0.0374\n",
            "Name: 43, dtype: object\n"
          ]
        },
        {
          "name": "stderr",
          "output_type": "stream",
          "text": [
            "INFO:prophet:n_changepoints greater than number of observations. Using 23.\n"
          ]
        },
        {
          "name": "stdout",
          "output_type": "stream",
          "text": [
            "Itertaion: 15\n",
            " new df start: ds               04-16-2023\n",
            "y                  0.034800\n",
            "yhat                    NaN\n",
            "bidding_price           NaN\n",
            "Name: 15, dtype: object\n",
            " new df end: ds               05-15-2023\n",
            "y                  0.035400\n",
            "yhat                 0.0375\n",
            "bidding_price        0.0374\n",
            "Name: 44, dtype: object\n"
          ]
        },
        {
          "name": "stderr",
          "output_type": "stream",
          "text": [
            "INFO:prophet:n_changepoints greater than number of observations. Using 23.\n"
          ]
        },
        {
          "name": "stdout",
          "output_type": "stream",
          "text": [
            "Itertaion: 16\n",
            " new df start: ds               04-17-2023\n",
            "y                  0.034300\n",
            "yhat                    NaN\n",
            "bidding_price           NaN\n",
            "Name: 16, dtype: object\n",
            " new df end: ds               05-16-2023\n",
            "y                  0.035800\n",
            "yhat                 0.0373\n",
            "bidding_price        0.0374\n",
            "Name: 45, dtype: object\n"
          ]
        },
        {
          "name": "stderr",
          "output_type": "stream",
          "text": [
            "INFO:prophet:n_changepoints greater than number of observations. Using 23.\n"
          ]
        },
        {
          "name": "stdout",
          "output_type": "stream",
          "text": [
            "Itertaion: 17\n",
            " new df start: ds               04-18-2023\n",
            "y                  0.034200\n",
            "yhat                    NaN\n",
            "bidding_price           NaN\n",
            "Name: 17, dtype: object\n",
            " new df end: ds               05-17-2023\n",
            "y                  0.035400\n",
            "yhat                 0.0372\n",
            "bidding_price        0.0374\n",
            "Name: 46, dtype: object\n"
          ]
        },
        {
          "name": "stderr",
          "output_type": "stream",
          "text": [
            "INFO:prophet:n_changepoints greater than number of observations. Using 23.\n"
          ]
        },
        {
          "name": "stdout",
          "output_type": "stream",
          "text": [
            "Itertaion: 18\n",
            " new df start: ds               04-19-2023\n",
            "y                  0.034100\n",
            "yhat                    NaN\n",
            "bidding_price           NaN\n",
            "Name: 18, dtype: object\n",
            " new df end: ds               05-18-2023\n",
            "y                  0.035700\n",
            "yhat                 0.0372\n",
            "bidding_price        0.0374\n",
            "Name: 47, dtype: object\n"
          ]
        },
        {
          "name": "stderr",
          "output_type": "stream",
          "text": [
            "INFO:prophet:n_changepoints greater than number of observations. Using 23.\n"
          ]
        },
        {
          "name": "stdout",
          "output_type": "stream",
          "text": [
            "Itertaion: 19\n",
            " new df start: ds               04-20-2023\n",
            "y                  0.034000\n",
            "yhat                    NaN\n",
            "bidding_price           NaN\n",
            "Name: 19, dtype: object\n",
            " new df end: ds               05-19-2023\n",
            "y                  0.035700\n",
            "yhat                 0.0373\n",
            "bidding_price        0.0374\n",
            "Name: 48, dtype: object\n"
          ]
        },
        {
          "name": "stderr",
          "output_type": "stream",
          "text": [
            "INFO:prophet:n_changepoints greater than number of observations. Using 23.\n"
          ]
        },
        {
          "name": "stdout",
          "output_type": "stream",
          "text": [
            "Itertaion: 20\n",
            " new df start: ds               04-21-2023\n",
            "y                  0.034200\n",
            "yhat                    NaN\n",
            "bidding_price           NaN\n",
            "Name: 20, dtype: object\n",
            " new df end: ds               05-20-2023\n",
            "y                  0.035600\n",
            "yhat                 0.0376\n",
            "bidding_price        0.0374\n",
            "Name: 49, dtype: object\n"
          ]
        },
        {
          "name": "stderr",
          "output_type": "stream",
          "text": [
            "INFO:prophet:n_changepoints greater than number of observations. Using 23.\n"
          ]
        },
        {
          "name": "stdout",
          "output_type": "stream",
          "text": [
            "Itertaion: 21\n",
            " new df start: ds               04-22-2023\n",
            "y                  0.034400\n",
            "yhat                    NaN\n",
            "bidding_price           NaN\n",
            "Name: 21, dtype: object\n",
            " new df end: ds               05-21-2023\n",
            "y                  0.035700\n",
            "yhat                 0.0374\n",
            "bidding_price        0.0374\n",
            "Name: 50, dtype: object\n"
          ]
        },
        {
          "name": "stderr",
          "output_type": "stream",
          "text": [
            "INFO:prophet:n_changepoints greater than number of observations. Using 23.\n"
          ]
        },
        {
          "name": "stdout",
          "output_type": "stream",
          "text": [
            "Itertaion: 22\n",
            " new df start: ds               04-23-2023\n",
            "y                  0.034500\n",
            "yhat                    NaN\n",
            "bidding_price           NaN\n",
            "Name: 22, dtype: object\n",
            " new df end: ds               05-22-2023\n",
            "y                  0.035600\n",
            "yhat                 0.0374\n",
            "bidding_price        0.0374\n",
            "Name: 51, dtype: object\n"
          ]
        },
        {
          "name": "stderr",
          "output_type": "stream",
          "text": [
            "INFO:prophet:n_changepoints greater than number of observations. Using 23.\n"
          ]
        },
        {
          "name": "stdout",
          "output_type": "stream",
          "text": [
            "Itertaion: 23\n",
            " new df start: ds               04-24-2023\n",
            "y                  0.034800\n",
            "yhat                    NaN\n",
            "bidding_price           NaN\n",
            "Name: 23, dtype: object\n",
            " new df end: ds               05-23-2023\n",
            "y                  0.035900\n",
            "yhat                 0.0376\n",
            "bidding_price        0.0374\n",
            "Name: 52, dtype: object\n"
          ]
        },
        {
          "name": "stderr",
          "output_type": "stream",
          "text": [
            "INFO:prophet:n_changepoints greater than number of observations. Using 23.\n"
          ]
        },
        {
          "name": "stdout",
          "output_type": "stream",
          "text": [
            "Itertaion: 24\n",
            " new df start: ds               04-25-2023\n",
            "y                  0.034700\n",
            "yhat                    NaN\n",
            "bidding_price           NaN\n",
            "Name: 24, dtype: object\n",
            " new df end: ds               05-24-2023\n",
            "y                  0.035900\n",
            "yhat                 0.0373\n",
            "bidding_price        0.0374\n",
            "Name: 53, dtype: object\n"
          ]
        },
        {
          "name": "stderr",
          "output_type": "stream",
          "text": [
            "INFO:prophet:n_changepoints greater than number of observations. Using 23.\n"
          ]
        },
        {
          "name": "stdout",
          "output_type": "stream",
          "text": [
            "Itertaion: 25\n",
            " new df start: ds               04-26-2023\n",
            "y                  0.034800\n",
            "yhat                    NaN\n",
            "bidding_price           NaN\n",
            "Name: 25, dtype: object\n",
            " new df end: ds               05-25-2023\n",
            "y                  0.035800\n",
            "yhat                 0.0376\n",
            "bidding_price        0.0374\n",
            "Name: 54, dtype: object\n"
          ]
        },
        {
          "name": "stderr",
          "output_type": "stream",
          "text": [
            "INFO:prophet:n_changepoints greater than number of observations. Using 23.\n"
          ]
        },
        {
          "name": "stdout",
          "output_type": "stream",
          "text": [
            "Itertaion: 26\n",
            " new df start: ds               04-27-2023\n",
            "y                  0.034600\n",
            "yhat                    NaN\n",
            "bidding_price           NaN\n",
            "Name: 26, dtype: object\n",
            " new df end: ds               05-26-2023\n",
            "y                  0.036000\n",
            "yhat                 0.0376\n",
            "bidding_price        0.0374\n",
            "Name: 55, dtype: object\n"
          ]
        },
        {
          "name": "stderr",
          "output_type": "stream",
          "text": [
            "INFO:prophet:n_changepoints greater than number of observations. Using 23.\n"
          ]
        },
        {
          "name": "stdout",
          "output_type": "stream",
          "text": [
            "Itertaion: 27\n",
            " new df start: ds               04-28-2023\n",
            "y                  0.035200\n",
            "yhat                    NaN\n",
            "bidding_price           NaN\n",
            "Name: 27, dtype: object\n",
            " new df end: ds               05-27-2023\n",
            "y                  0.035900\n",
            "yhat                 0.0378\n",
            "bidding_price        0.0374\n",
            "Name: 56, dtype: object\n"
          ]
        },
        {
          "name": "stderr",
          "output_type": "stream",
          "text": [
            "INFO:prophet:n_changepoints greater than number of observations. Using 23.\n"
          ]
        },
        {
          "name": "stdout",
          "output_type": "stream",
          "text": [
            "Itertaion: 28\n",
            " new df start: ds               04-29-2023\n",
            "y                  0.035500\n",
            "yhat                    NaN\n",
            "bidding_price           NaN\n",
            "Name: 28, dtype: object\n",
            " new df end: ds               05-28-2023\n",
            "y                  0.036000\n",
            "yhat                 0.0377\n",
            "bidding_price        0.0374\n",
            "Name: 57, dtype: object\n"
          ]
        },
        {
          "name": "stderr",
          "output_type": "stream",
          "text": [
            "INFO:prophet:n_changepoints greater than number of observations. Using 23.\n"
          ]
        },
        {
          "name": "stdout",
          "output_type": "stream",
          "text": [
            "Itertaion: 29\n",
            " new df start: ds               04-30-2023\n",
            "y                  0.035400\n",
            "yhat                    NaN\n",
            "bidding_price           NaN\n",
            "Name: 29, dtype: object\n",
            " new df end: ds               05-29-2023\n",
            "y                  0.035900\n",
            "yhat                 0.0377\n",
            "bidding_price        0.0374\n",
            "Name: 58, dtype: object\n"
          ]
        },
        {
          "name": "stderr",
          "output_type": "stream",
          "text": [
            "INFO:prophet:n_changepoints greater than number of observations. Using 23.\n"
          ]
        },
        {
          "name": "stdout",
          "output_type": "stream",
          "text": [
            "Itertaion: 30\n",
            " new df start: ds               05-01-2023\n",
            "y                  0.035000\n",
            "yhat                 0.0374\n",
            "bidding_price        0.0374\n",
            "Name: 30, dtype: object\n",
            " new df end: ds               05-30-2023\n",
            "y                  0.036100\n",
            "yhat                 0.0381\n",
            "bidding_price        0.0374\n",
            "Name: 59, dtype: object\n"
          ]
        },
        {
          "name": "stderr",
          "output_type": "stream",
          "text": [
            "INFO:prophet:n_changepoints greater than number of observations. Using 23.\n"
          ]
        },
        {
          "name": "stdout",
          "output_type": "stream",
          "text": [
            "Itertaion: 31\n",
            " new df start: ds               05-02-2023\n",
            "y                  0.035300\n",
            "yhat                 0.0373\n",
            "bidding_price        0.0374\n",
            "Name: 31, dtype: object\n",
            " new df end: ds               05-31-2023\n",
            "y                  0.036200\n",
            "yhat                 0.0378\n",
            "bidding_price        0.0374\n",
            "Name: 60, dtype: object\n"
          ]
        },
        {
          "name": "stderr",
          "output_type": "stream",
          "text": [
            "INFO:prophet:n_changepoints greater than number of observations. Using 23.\n"
          ]
        },
        {
          "name": "stdout",
          "output_type": "stream",
          "text": [
            "Itertaion: 32\n",
            " new df start: ds               05-03-2023\n",
            "y                  0.034800\n",
            "yhat                 0.0371\n",
            "bidding_price        0.0374\n",
            "Name: 32, dtype: object\n",
            " new df end: ds               06-01-2023\n",
            "y                  0.036300\n",
            "yhat                  0.038\n",
            "bidding_price        0.0374\n",
            "Name: 61, dtype: object\n"
          ]
        },
        {
          "name": "stderr",
          "output_type": "stream",
          "text": [
            "INFO:prophet:n_changepoints greater than number of observations. Using 23.\n"
          ]
        },
        {
          "name": "stdout",
          "output_type": "stream",
          "text": [
            "Itertaion: 33\n",
            " new df start: ds               05-04-2023\n",
            "y                  0.035200\n",
            "yhat                  0.037\n",
            "bidding_price        0.0374\n",
            "Name: 33, dtype: object\n",
            " new df end: ds               06-02-2023\n",
            "y                  0.036400\n",
            "yhat                  0.038\n",
            "bidding_price        0.0374\n",
            "Name: 62, dtype: object\n"
          ]
        },
        {
          "name": "stderr",
          "output_type": "stream",
          "text": [
            "INFO:prophet:n_changepoints greater than number of observations. Using 23.\n"
          ]
        },
        {
          "name": "stdout",
          "output_type": "stream",
          "text": [
            "Itertaion: 34\n",
            " new df start: ds               05-05-2023\n",
            "y                  0.035200\n",
            "yhat                 0.0371\n",
            "bidding_price        0.0374\n",
            "Name: 34, dtype: object\n",
            " new df end: ds               06-03-2023\n",
            "y                  0.036500\n",
            "yhat                 0.0382\n",
            "bidding_price        0.0374\n",
            "Name: 63, dtype: object\n"
          ]
        },
        {
          "name": "stderr",
          "output_type": "stream",
          "text": [
            "INFO:prophet:n_changepoints greater than number of observations. Using 23.\n"
          ]
        },
        {
          "name": "stdout",
          "output_type": "stream",
          "text": [
            "Itertaion: 35\n",
            " new df start: ds               05-06-2023\n",
            "y                  0.035200\n",
            "yhat                 0.0372\n",
            "bidding_price        0.0374\n",
            "Name: 35, dtype: object\n",
            " new df end: ds               06-04-2023\n",
            "y                  0.036500\n",
            "yhat                 0.0383\n",
            "bidding_price        0.0374\n",
            "Name: 64, dtype: object\n"
          ]
        },
        {
          "name": "stderr",
          "output_type": "stream",
          "text": [
            "INFO:prophet:n_changepoints greater than number of observations. Using 23.\n"
          ]
        },
        {
          "name": "stdout",
          "output_type": "stream",
          "text": [
            "Itertaion: 36\n",
            " new df start: ds               05-07-2023\n",
            "y                  0.035100\n",
            "yhat                 0.0371\n",
            "bidding_price        0.0374\n",
            "Name: 36, dtype: object\n",
            " new df end: ds               06-05-2023\n",
            "y                  0.036600\n",
            "yhat                 0.0384\n",
            "bidding_price        0.0374\n",
            "Name: 65, dtype: object\n"
          ]
        },
        {
          "name": "stderr",
          "output_type": "stream",
          "text": [
            "INFO:prophet:n_changepoints greater than number of observations. Using 23.\n"
          ]
        },
        {
          "name": "stdout",
          "output_type": "stream",
          "text": [
            "Itertaion: 37\n",
            " new df start: ds               05-08-2023\n",
            "y                  0.035500\n",
            "yhat                 0.0368\n",
            "bidding_price        0.0374\n",
            "Name: 37, dtype: object\n",
            " new df end: ds               06-06-2023\n",
            "y                  0.036500\n",
            "yhat                 0.0388\n",
            "bidding_price        0.0374\n",
            "Name: 66, dtype: object\n"
          ]
        },
        {
          "name": "stderr",
          "output_type": "stream",
          "text": [
            "INFO:prophet:n_changepoints greater than number of observations. Using 23.\n"
          ]
        },
        {
          "name": "stdout",
          "output_type": "stream",
          "text": [
            "Itertaion: 38\n",
            " new df start: ds               05-09-2023\n",
            "y                  0.035700\n",
            "yhat                  0.037\n",
            "bidding_price        0.0374\n",
            "Name: 38, dtype: object\n",
            " new df end: ds               06-07-2023\n",
            "y                  0.036600\n",
            "yhat                 0.0385\n",
            "bidding_price        0.0374\n",
            "Name: 67, dtype: object\n"
          ]
        },
        {
          "name": "stderr",
          "output_type": "stream",
          "text": [
            "INFO:prophet:n_changepoints greater than number of observations. Using 23.\n"
          ]
        },
        {
          "name": "stdout",
          "output_type": "stream",
          "text": [
            "Itertaion: 39\n",
            " new df start: ds               05-10-2023\n",
            "y                  0.035700\n",
            "yhat                  0.037\n",
            "bidding_price        0.0374\n",
            "Name: 39, dtype: object\n",
            " new df end: ds               06-08-2023\n",
            "y                  0.036500\n",
            "yhat                 0.0386\n",
            "bidding_price        0.0374\n",
            "Name: 68, dtype: object\n"
          ]
        },
        {
          "name": "stderr",
          "output_type": "stream",
          "text": [
            "INFO:prophet:n_changepoints greater than number of observations. Using 23.\n"
          ]
        },
        {
          "name": "stdout",
          "output_type": "stream",
          "text": [
            "Itertaion: 40\n",
            " new df start: ds               05-11-2023\n",
            "y                  0.035700\n",
            "yhat                 0.0374\n",
            "bidding_price        0.0374\n",
            "Name: 40, dtype: object\n",
            " new df end: ds               06-09-2023\n",
            "y                  0.035800\n",
            "yhat                 0.0384\n",
            "bidding_price        0.0374\n",
            "Name: 69, dtype: object\n",
            "            ds         y    yhat  bidding_price\n",
            "0   04-01-2023  0.027900     NaN            NaN\n",
            "1   04-02-2023  0.029100     NaN            NaN\n",
            "2   04-03-2023  0.031100     NaN            NaN\n",
            "3   04-04-2023  0.032400     NaN            NaN\n",
            "4   04-05-2023  0.032900     NaN            NaN\n",
            "..         ...       ...     ...            ...\n",
            "66  06-06-2023  0.036500  0.0388         0.0374\n",
            "67  06-07-2023  0.036600  0.0385         0.0374\n",
            "68  06-08-2023  0.036500  0.0386         0.0374\n",
            "69  06-09-2023  0.035800  0.0384         0.0374\n",
            "70  06-10-2023  0.035400  0.0380         0.0374\n",
            "\n",
            "[71 rows x 4 columns]\n"
          ]
        }
      ],
      "source": [
        "# spots = {\"t2.small\": {\"cpu\": 1, \"memory\": 2, \"date\": \"2023-03-22\", \"cost\": 0.008}, \"t3.medium\": {\"cpu\": 2, \"memory\": 4, \"date\": \"2023-03-19\", \"cost\": 0.019}, \"m6g.medium\": {\"cpu\": 1, \"memory\": 4, \"date\": 22, \"cost\": 0.01}, \"c6a.large\": {\"cpu\": 2, \"memory\": 4, \"date\": 22, \"cost\": 0.01}, \"t4g.large\": {\"cpu\": 2, \"memory\": 8, \"date\": 22, \"cost\": 0.01}, \"c6g.xlarge\": {\"cpu\": 4, \"memory\": 8, \"date\": 22, \"cost\": 0.01}}\n",
        "# instances = list(spots.keys())\n",
        "# print(instances)\n",
        "# for i in instances:\n",
        "#   print(f'Instance: {i}')\n",
        "#   main(i)\n",
        "\n",
        "updated_df = main(instance_name)\n"
      ]
    },
    {
      "cell_type": "code",
      "execution_count": 179,
      "metadata": {},
      "outputs": [
        {
          "data": {
            "text/html": [
              "<div>\n",
              "<style scoped>\n",
              "    .dataframe tbody tr th:only-of-type {\n",
              "        vertical-align: middle;\n",
              "    }\n",
              "\n",
              "    .dataframe tbody tr th {\n",
              "        vertical-align: top;\n",
              "    }\n",
              "\n",
              "    .dataframe thead th {\n",
              "        text-align: right;\n",
              "    }\n",
              "</style>\n",
              "<table border=\"1\" class=\"dataframe\">\n",
              "  <thead>\n",
              "    <tr style=\"text-align: right;\">\n",
              "      <th></th>\n",
              "      <th>ds</th>\n",
              "      <th>y</th>\n",
              "      <th>yhat</th>\n",
              "      <th>bidding_price</th>\n",
              "    </tr>\n",
              "  </thead>\n",
              "  <tbody>\n",
              "    <tr>\n",
              "      <th>0</th>\n",
              "      <td>04-01-2023</td>\n",
              "      <td>0.027900</td>\n",
              "      <td>NaN</td>\n",
              "      <td>NaN</td>\n",
              "    </tr>\n",
              "    <tr>\n",
              "      <th>1</th>\n",
              "      <td>04-02-2023</td>\n",
              "      <td>0.029100</td>\n",
              "      <td>NaN</td>\n",
              "      <td>NaN</td>\n",
              "    </tr>\n",
              "    <tr>\n",
              "      <th>2</th>\n",
              "      <td>04-03-2023</td>\n",
              "      <td>0.031100</td>\n",
              "      <td>NaN</td>\n",
              "      <td>NaN</td>\n",
              "    </tr>\n",
              "    <tr>\n",
              "      <th>3</th>\n",
              "      <td>04-04-2023</td>\n",
              "      <td>0.032400</td>\n",
              "      <td>NaN</td>\n",
              "      <td>NaN</td>\n",
              "    </tr>\n",
              "    <tr>\n",
              "      <th>4</th>\n",
              "      <td>04-05-2023</td>\n",
              "      <td>0.032900</td>\n",
              "      <td>NaN</td>\n",
              "      <td>NaN</td>\n",
              "    </tr>\n",
              "    <tr>\n",
              "      <th>...</th>\n",
              "      <td>...</td>\n",
              "      <td>...</td>\n",
              "      <td>...</td>\n",
              "      <td>...</td>\n",
              "    </tr>\n",
              "    <tr>\n",
              "      <th>66</th>\n",
              "      <td>06-06-2023</td>\n",
              "      <td>0.036500</td>\n",
              "      <td>0.0388</td>\n",
              "      <td>0.0374</td>\n",
              "    </tr>\n",
              "    <tr>\n",
              "      <th>67</th>\n",
              "      <td>06-07-2023</td>\n",
              "      <td>0.036600</td>\n",
              "      <td>0.0385</td>\n",
              "      <td>0.0374</td>\n",
              "    </tr>\n",
              "    <tr>\n",
              "      <th>68</th>\n",
              "      <td>06-08-2023</td>\n",
              "      <td>0.036500</td>\n",
              "      <td>0.0386</td>\n",
              "      <td>0.0374</td>\n",
              "    </tr>\n",
              "    <tr>\n",
              "      <th>69</th>\n",
              "      <td>06-09-2023</td>\n",
              "      <td>0.035800</td>\n",
              "      <td>0.0384</td>\n",
              "      <td>0.0374</td>\n",
              "    </tr>\n",
              "    <tr>\n",
              "      <th>70</th>\n",
              "      <td>06-10-2023</td>\n",
              "      <td>0.035400</td>\n",
              "      <td>0.0380</td>\n",
              "      <td>0.0374</td>\n",
              "    </tr>\n",
              "  </tbody>\n",
              "</table>\n",
              "<p>71 rows × 4 columns</p>\n",
              "</div>"
            ],
            "text/plain": [
              "            ds         y    yhat  bidding_price\n",
              "0   04-01-2023  0.027900     NaN            NaN\n",
              "1   04-02-2023  0.029100     NaN            NaN\n",
              "2   04-03-2023  0.031100     NaN            NaN\n",
              "3   04-04-2023  0.032400     NaN            NaN\n",
              "4   04-05-2023  0.032900     NaN            NaN\n",
              "..         ...       ...     ...            ...\n",
              "66  06-06-2023  0.036500  0.0388         0.0374\n",
              "67  06-07-2023  0.036600  0.0385         0.0374\n",
              "68  06-08-2023  0.036500  0.0386         0.0374\n",
              "69  06-09-2023  0.035800  0.0384         0.0374\n",
              "70  06-10-2023  0.035400  0.0380         0.0374\n",
              "\n",
              "[71 rows x 4 columns]"
            ]
          },
          "execution_count": 179,
          "metadata": {},
          "output_type": "execute_result"
        }
      ],
      "source": [
        "updated_df"
      ]
    },
    {
      "cell_type": "code",
      "execution_count": 180,
      "metadata": {},
      "outputs": [],
      "source": [
        "updated_df['on_demand'] = '0.0416'"
      ]
    },
    {
      "cell_type": "code",
      "execution_count": 181,
      "metadata": {},
      "outputs": [],
      "source": [
        "updated_df['ds'] = pd.to_datetime(updated_df['ds'], format='%m-%d-%Y')\n",
        "updated_df['ds'] = updated_df['ds'].dt.strftime('%m-%d')"
      ]
    },
    {
      "cell_type": "code",
      "execution_count": 182,
      "metadata": {},
      "outputs": [
        {
          "data": {
            "text/html": [
              "<div>\n",
              "<style scoped>\n",
              "    .dataframe tbody tr th:only-of-type {\n",
              "        vertical-align: middle;\n",
              "    }\n",
              "\n",
              "    .dataframe tbody tr th {\n",
              "        vertical-align: top;\n",
              "    }\n",
              "\n",
              "    .dataframe thead th {\n",
              "        text-align: right;\n",
              "    }\n",
              "</style>\n",
              "<table border=\"1\" class=\"dataframe\">\n",
              "  <thead>\n",
              "    <tr style=\"text-align: right;\">\n",
              "      <th></th>\n",
              "      <th>ds</th>\n",
              "      <th>y</th>\n",
              "      <th>yhat</th>\n",
              "      <th>bidding_price</th>\n",
              "      <th>on_demand</th>\n",
              "    </tr>\n",
              "  </thead>\n",
              "  <tbody>\n",
              "    <tr>\n",
              "      <th>0</th>\n",
              "      <td>04-01</td>\n",
              "      <td>0.027900</td>\n",
              "      <td>NaN</td>\n",
              "      <td>NaN</td>\n",
              "      <td>0.0672</td>\n",
              "    </tr>\n",
              "    <tr>\n",
              "      <th>1</th>\n",
              "      <td>04-02</td>\n",
              "      <td>0.029100</td>\n",
              "      <td>NaN</td>\n",
              "      <td>NaN</td>\n",
              "      <td>0.0672</td>\n",
              "    </tr>\n",
              "    <tr>\n",
              "      <th>2</th>\n",
              "      <td>04-03</td>\n",
              "      <td>0.031100</td>\n",
              "      <td>NaN</td>\n",
              "      <td>NaN</td>\n",
              "      <td>0.0672</td>\n",
              "    </tr>\n",
              "    <tr>\n",
              "      <th>3</th>\n",
              "      <td>04-04</td>\n",
              "      <td>0.032400</td>\n",
              "      <td>NaN</td>\n",
              "      <td>NaN</td>\n",
              "      <td>0.0672</td>\n",
              "    </tr>\n",
              "    <tr>\n",
              "      <th>4</th>\n",
              "      <td>04-05</td>\n",
              "      <td>0.032900</td>\n",
              "      <td>NaN</td>\n",
              "      <td>NaN</td>\n",
              "      <td>0.0672</td>\n",
              "    </tr>\n",
              "    <tr>\n",
              "      <th>...</th>\n",
              "      <td>...</td>\n",
              "      <td>...</td>\n",
              "      <td>...</td>\n",
              "      <td>...</td>\n",
              "      <td>...</td>\n",
              "    </tr>\n",
              "    <tr>\n",
              "      <th>66</th>\n",
              "      <td>06-06</td>\n",
              "      <td>0.036500</td>\n",
              "      <td>0.0388</td>\n",
              "      <td>0.0374</td>\n",
              "      <td>0.0672</td>\n",
              "    </tr>\n",
              "    <tr>\n",
              "      <th>67</th>\n",
              "      <td>06-07</td>\n",
              "      <td>0.036600</td>\n",
              "      <td>0.0385</td>\n",
              "      <td>0.0374</td>\n",
              "      <td>0.0672</td>\n",
              "    </tr>\n",
              "    <tr>\n",
              "      <th>68</th>\n",
              "      <td>06-08</td>\n",
              "      <td>0.036500</td>\n",
              "      <td>0.0386</td>\n",
              "      <td>0.0374</td>\n",
              "      <td>0.0672</td>\n",
              "    </tr>\n",
              "    <tr>\n",
              "      <th>69</th>\n",
              "      <td>06-09</td>\n",
              "      <td>0.035800</td>\n",
              "      <td>0.0384</td>\n",
              "      <td>0.0374</td>\n",
              "      <td>0.0672</td>\n",
              "    </tr>\n",
              "    <tr>\n",
              "      <th>70</th>\n",
              "      <td>06-10</td>\n",
              "      <td>0.035400</td>\n",
              "      <td>0.0380</td>\n",
              "      <td>0.0374</td>\n",
              "      <td>0.0672</td>\n",
              "    </tr>\n",
              "  </tbody>\n",
              "</table>\n",
              "<p>71 rows × 5 columns</p>\n",
              "</div>"
            ],
            "text/plain": [
              "       ds         y    yhat  bidding_price on_demand\n",
              "0   04-01  0.027900     NaN            NaN    0.0672\n",
              "1   04-02  0.029100     NaN            NaN    0.0672\n",
              "2   04-03  0.031100     NaN            NaN    0.0672\n",
              "3   04-04  0.032400     NaN            NaN    0.0672\n",
              "4   04-05  0.032900     NaN            NaN    0.0672\n",
              "..    ...       ...     ...            ...       ...\n",
              "66  06-06  0.036500  0.0388         0.0374    0.0672\n",
              "67  06-07  0.036600  0.0385         0.0374    0.0672\n",
              "68  06-08  0.036500  0.0386         0.0374    0.0672\n",
              "69  06-09  0.035800  0.0384         0.0374    0.0672\n",
              "70  06-10  0.035400  0.0380         0.0374    0.0672\n",
              "\n",
              "[71 rows x 5 columns]"
            ]
          },
          "execution_count": 182,
          "metadata": {},
          "output_type": "execute_result"
        }
      ],
      "source": [
        "updated_df"
      ]
    },
    {
      "cell_type": "code",
      "execution_count": 183,
      "metadata": {},
      "outputs": [],
      "source": [
        "updated_df.to_csv(f'{instance_name}.csv', index=False)"
      ]
    },
    {
      "cell_type": "code",
      "execution_count": null,
      "metadata": {},
      "outputs": [],
      "source": []
    }
  ],
  "metadata": {
    "colab": {
      "provenance": []
    },
    "kernelspec": {
      "display_name": "Python 3",
      "name": "python3"
    },
    "language_info": {
      "codemirror_mode": {
        "name": "ipython",
        "version": 3
      },
      "file_extension": ".py",
      "mimetype": "text/x-python",
      "name": "python",
      "nbconvert_exporter": "python",
      "pygments_lexer": "ipython3",
      "version": "3.8.10"
    }
  },
  "nbformat": 4,
  "nbformat_minor": 0
}
