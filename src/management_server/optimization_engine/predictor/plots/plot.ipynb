{
  "cells": [
    {
      "cell_type": "code",
      "execution_count": 6,
      "metadata": {
        "id": "Eb3uGcU720jJ"
      },
      "outputs": [],
      "source": [
        "import os\n",
        "import boto3\n",
        "import sys\n",
        "from prophet import Prophet\n",
        "import matplotlib.pyplot as plt\n",
        "import datetime\n",
        "import pandas as pd\n",
        "\n"
      ]
    },
    {
      "cell_type": "code",
      "execution_count": 14,
      "metadata": {
        "id": "_-Sme1A02312"
      },
      "outputs": [],
      "source": [
        "results = []\n",
        "\n",
        "def history(client, instance, region_):\n",
        "    INSTANCE = instance\n",
        "    STARTTIME = (datetime.datetime.now() - datetime.timedelta(days=60)).isoformat()\n",
        "    \n",
        "    prices = client.describe_spot_price_history(\n",
        "        InstanceTypes=[INSTANCE],\n",
        "        ProductDescriptions=['Linux/UNIX'],\n",
        "        AvailabilityZone=\"{region_}a\".format(region_= region_),\n",
        "        StartTime=STARTTIME,\n",
        "        MaxResults=200\n",
        "    )\n",
        "    # print(\"Prices for region %s: %s\" % (region, prices[\"SpotPriceHistory\"]))\n",
        "    for price in prices[\"SpotPriceHistory\"]:\n",
        "        results.append({\n",
        "                        'Timestamp': price[\"Timestamp\"].strftime('%m-%d-%Y'), \n",
        "                        'Price': price[\"SpotPrice\"]\n",
        "                        })\n",
        "\n",
        "        \n",
        "    df = pd.DataFrame.from_dict(results)\n",
        "    df = df.rename(columns={'Timestamp': 'ds', 'Price': 'y'})\n",
        "    df = df.sort_values('y', ascending=False).drop_duplicates('ds').sort_values('ds').reset_index(drop=True)\n",
        "    \n",
        "    return df"
      ]
    },
    {
      "cell_type": "code",
      "execution_count": 15,
      "metadata": {
        "id": "9RNLkdUu23zD"
      },
      "outputs": [],
      "source": [
        "def interpolate(df):\n",
        "    # Split the data into train and test sets\n",
        "    # Train the model on the train set\n",
        "    model = Prophet(\n",
        "        daily_seasonality=True,\n",
        "        yearly_seasonality=False,\n",
        "    )\n",
        "    model.fit(df)\n",
        "\n",
        "    # Predict for the test set\n",
        "    future = model.make_future_dataframe(periods=1)\n",
        "    forecast = model.predict(future)\n",
        "    predicted_prices = forecast['yhat'].iloc[-1]\n",
        "\n",
        "    return predicted_prices"
      ]
    },
    {
      "cell_type": "code",
      "execution_count": 16,
      "metadata": {
        "id": "tIcjqUne3c4X"
      },
      "outputs": [],
      "source": [
        "def main(instance):\n",
        "    region = \"us-east-1\"\n",
        "    client = boto3.client('ec2', region_name=region)\n",
        "    df = history(client, instance, region)\n",
        "    print(df)\n",
        "    for i in range(len(df) - 21):\n",
        "        print(f'Itertaion: {i}')\n",
        "        new_df = df.iloc[i:i+21]\n",
        "        print(f' new df start: {new_df.iloc[0]}')\n",
        "        print(f' new df end: {new_df.iloc[-1]}')\n",
        "        price = interpolate(new_df)\n",
        "        df.loc[i+21, 'yhat'] = price\n",
        "    print(df)\n",
        "    return df"
      ]
    },
    {
      "cell_type": "code",
      "execution_count": 17,
      "metadata": {
        "colab": {
          "base_uri": "https://localhost:8080/",
          "height": 363
        },
        "id": "0J7LByWh27e4",
        "outputId": "b2bca6b4-aa13-42e5-950d-24bd64ed0ca2"
      },
      "outputs": [
        {
          "name": "stderr",
          "output_type": "stream",
          "text": [
            "INFO:prophet:n_changepoints greater than number of observations. Using 15.\n"
          ]
        },
        {
          "name": "stdout",
          "output_type": "stream",
          "text": [
            "            ds         y\n",
            "0   03-18-2023  0.007800\n",
            "1   03-19-2023  0.007900\n",
            "2   03-20-2023  0.008000\n",
            "3   03-21-2023  0.008200\n",
            "4   03-22-2023  0.008400\n",
            "..         ...       ...\n",
            "56  05-13-2023  0.017500\n",
            "57  05-14-2023  0.017400\n",
            "58  05-15-2023  0.017300\n",
            "59  05-16-2023  0.017600\n",
            "60  05-17-2023  0.017300\n",
            "\n",
            "[61 rows x 2 columns]\n",
            "Itertaion: 0\n",
            " new df start: ds    03-18-2023\n",
            "y       0.007800\n",
            "Name: 0, dtype: object\n",
            " new df end: ds    04-07-2023\n",
            "y       0.013100\n",
            "Name: 20, dtype: object\n"
          ]
        },
        {
          "name": "stderr",
          "output_type": "stream",
          "text": [
            "INFO:prophet:n_changepoints greater than number of observations. Using 15.\n"
          ]
        },
        {
          "name": "stdout",
          "output_type": "stream",
          "text": [
            "Itertaion: 1\n",
            " new df start: ds      03-19-2023\n",
            "y         0.007900\n",
            "yhat           NaN\n",
            "Name: 1, dtype: object\n",
            " new df end: ds      04-08-2023\n",
            "y         0.013700\n",
            "yhat      0.013458\n",
            "Name: 21, dtype: object\n"
          ]
        },
        {
          "name": "stderr",
          "output_type": "stream",
          "text": [
            "INFO:prophet:n_changepoints greater than number of observations. Using 15.\n"
          ]
        },
        {
          "name": "stdout",
          "output_type": "stream",
          "text": [
            "Itertaion: 2\n",
            " new df start: ds      03-20-2023\n",
            "y         0.008000\n",
            "yhat           NaN\n",
            "Name: 2, dtype: object\n",
            " new df end: ds      04-09-2023\n",
            "y         0.014300\n",
            "yhat      0.014098\n",
            "Name: 22, dtype: object\n"
          ]
        },
        {
          "name": "stderr",
          "output_type": "stream",
          "text": [
            "INFO:prophet:n_changepoints greater than number of observations. Using 15.\n"
          ]
        },
        {
          "name": "stdout",
          "output_type": "stream",
          "text": [
            "Itertaion: 3\n",
            " new df start: ds      03-21-2023\n",
            "y         0.008200\n",
            "yhat           NaN\n",
            "Name: 3, dtype: object\n",
            " new df end: ds      04-10-2023\n",
            "y         0.014400\n",
            "yhat      0.014785\n",
            "Name: 23, dtype: object\n"
          ]
        },
        {
          "name": "stderr",
          "output_type": "stream",
          "text": [
            "INFO:prophet:n_changepoints greater than number of observations. Using 15.\n"
          ]
        },
        {
          "name": "stdout",
          "output_type": "stream",
          "text": [
            "Itertaion: 4\n",
            " new df start: ds      03-22-2023\n",
            "y         0.008400\n",
            "yhat           NaN\n",
            "Name: 4, dtype: object\n",
            " new df end: ds      04-11-2023\n",
            "y         0.014900\n",
            "yhat      0.014916\n",
            "Name: 24, dtype: object\n"
          ]
        },
        {
          "name": "stderr",
          "output_type": "stream",
          "text": [
            "INFO:prophet:n_changepoints greater than number of observations. Using 15.\n"
          ]
        },
        {
          "name": "stdout",
          "output_type": "stream",
          "text": [
            "Itertaion: 5\n",
            " new df start: ds      03-23-2023\n",
            "y         0.008600\n",
            "yhat           NaN\n",
            "Name: 5, dtype: object\n",
            " new df end: ds      04-12-2023\n",
            "y         0.015100\n",
            "yhat      0.015343\n",
            "Name: 25, dtype: object\n"
          ]
        },
        {
          "name": "stderr",
          "output_type": "stream",
          "text": [
            "INFO:prophet:n_changepoints greater than number of observations. Using 15.\n"
          ]
        },
        {
          "name": "stdout",
          "output_type": "stream",
          "text": [
            "Itertaion: 6\n",
            " new df start: ds      03-24-2023\n",
            "y         0.008800\n",
            "yhat           NaN\n",
            "Name: 6, dtype: object\n",
            " new df end: ds      04-13-2023\n",
            "y         0.015100\n",
            "yhat       0.01553\n",
            "Name: 26, dtype: object\n"
          ]
        },
        {
          "name": "stderr",
          "output_type": "stream",
          "text": [
            "INFO:prophet:n_changepoints greater than number of observations. Using 15.\n"
          ]
        },
        {
          "name": "stdout",
          "output_type": "stream",
          "text": [
            "Itertaion: 7\n",
            " new df start: ds      03-25-2023\n",
            "y         0.008800\n",
            "yhat           NaN\n",
            "Name: 7, dtype: object\n",
            " new df end: ds      04-14-2023\n",
            "y         0.015400\n",
            "yhat      0.015502\n",
            "Name: 27, dtype: object\n"
          ]
        },
        {
          "name": "stderr",
          "output_type": "stream",
          "text": [
            "INFO:prophet:n_changepoints greater than number of observations. Using 15.\n"
          ]
        },
        {
          "name": "stdout",
          "output_type": "stream",
          "text": [
            "Itertaion: 8\n",
            " new df start: ds      03-26-2023\n",
            "y         0.008900\n",
            "yhat           NaN\n",
            "Name: 8, dtype: object\n",
            " new df end: ds      04-15-2023\n",
            "y         0.015700\n",
            "yhat      0.015821\n",
            "Name: 28, dtype: object\n"
          ]
        },
        {
          "name": "stderr",
          "output_type": "stream",
          "text": [
            "INFO:prophet:n_changepoints greater than number of observations. Using 15.\n"
          ]
        },
        {
          "name": "stdout",
          "output_type": "stream",
          "text": [
            "Itertaion: 9\n",
            " new df start: ds      03-27-2023\n",
            "y         0.008900\n",
            "yhat           NaN\n",
            "Name: 9, dtype: object\n",
            " new df end: ds      04-16-2023\n",
            "y         0.015800\n",
            "yhat      0.016164\n",
            "Name: 29, dtype: object\n"
          ]
        },
        {
          "name": "stderr",
          "output_type": "stream",
          "text": [
            "INFO:prophet:n_changepoints greater than number of observations. Using 15.\n"
          ]
        },
        {
          "name": "stdout",
          "output_type": "stream",
          "text": [
            "Itertaion: 10\n",
            " new df start: ds      03-28-2023\n",
            "y         0.009300\n",
            "yhat           NaN\n",
            "Name: 10, dtype: object\n",
            " new df end: ds      04-17-2023\n",
            "y         0.016100\n",
            "yhat       0.01591\n",
            "Name: 30, dtype: object\n"
          ]
        },
        {
          "name": "stderr",
          "output_type": "stream",
          "text": [
            "INFO:prophet:n_changepoints greater than number of observations. Using 15.\n"
          ]
        },
        {
          "name": "stdout",
          "output_type": "stream",
          "text": [
            "Itertaion: 11\n",
            " new df start: ds      03-29-2023\n",
            "y         0.009500\n",
            "yhat           NaN\n",
            "Name: 11, dtype: object\n",
            " new df end: ds      04-18-2023\n",
            "y         0.016400\n",
            "yhat      0.016283\n",
            "Name: 31, dtype: object\n"
          ]
        },
        {
          "name": "stderr",
          "output_type": "stream",
          "text": [
            "INFO:prophet:n_changepoints greater than number of observations. Using 15.\n"
          ]
        },
        {
          "name": "stdout",
          "output_type": "stream",
          "text": [
            "Itertaion: 12\n",
            " new df start: ds      03-30-2023\n",
            "y         0.009600\n",
            "yhat           NaN\n",
            "Name: 12, dtype: object\n",
            " new df end: ds      04-19-2023\n",
            "y         0.016800\n",
            "yhat      0.016578\n",
            "Name: 32, dtype: object\n"
          ]
        },
        {
          "name": "stderr",
          "output_type": "stream",
          "text": [
            "INFO:prophet:n_changepoints greater than number of observations. Using 15.\n"
          ]
        },
        {
          "name": "stdout",
          "output_type": "stream",
          "text": [
            "Itertaion: 13\n",
            " new df start: ds      03-31-2023\n",
            "y         0.010000\n",
            "yhat           NaN\n",
            "Name: 13, dtype: object\n",
            " new df end: ds      04-20-2023\n",
            "y         0.017200\n",
            "yhat      0.016735\n",
            "Name: 33, dtype: object\n"
          ]
        },
        {
          "name": "stderr",
          "output_type": "stream",
          "text": [
            "INFO:prophet:n_changepoints greater than number of observations. Using 15.\n"
          ]
        },
        {
          "name": "stdout",
          "output_type": "stream",
          "text": [
            "Itertaion: 14\n",
            " new df start: ds      04-01-2023\n",
            "y         0.010500\n",
            "yhat           NaN\n",
            "Name: 14, dtype: object\n",
            " new df end: ds      04-21-2023\n",
            "y         0.017600\n",
            "yhat      0.017492\n",
            "Name: 34, dtype: object\n"
          ]
        },
        {
          "name": "stderr",
          "output_type": "stream",
          "text": [
            "INFO:prophet:n_changepoints greater than number of observations. Using 15.\n"
          ]
        },
        {
          "name": "stdout",
          "output_type": "stream",
          "text": [
            "Itertaion: 15\n",
            " new df start: ds      04-02-2023\n",
            "y         0.011000\n",
            "yhat           NaN\n",
            "Name: 15, dtype: object\n",
            " new df end: ds      04-22-2023\n",
            "y         0.017600\n",
            "yhat      0.018151\n",
            "Name: 35, dtype: object\n"
          ]
        },
        {
          "name": "stderr",
          "output_type": "stream",
          "text": [
            "INFO:prophet:n_changepoints greater than number of observations. Using 15.\n"
          ]
        },
        {
          "name": "stdout",
          "output_type": "stream",
          "text": [
            "Itertaion: 16\n",
            " new df start: ds      04-03-2023\n",
            "y         0.011400\n",
            "yhat           NaN\n",
            "Name: 16, dtype: object\n",
            " new df end: ds      04-23-2023\n",
            "y         0.017400\n",
            "yhat      0.018195\n",
            "Name: 36, dtype: object\n"
          ]
        },
        {
          "name": "stderr",
          "output_type": "stream",
          "text": [
            "INFO:prophet:n_changepoints greater than number of observations. Using 15.\n"
          ]
        },
        {
          "name": "stdout",
          "output_type": "stream",
          "text": [
            "Itertaion: 17\n",
            " new df start: ds      04-04-2023\n",
            "y         0.011700\n",
            "yhat           NaN\n",
            "Name: 17, dtype: object\n",
            " new df end: ds      04-24-2023\n",
            "y         0.017400\n",
            "yhat      0.018039\n",
            "Name: 37, dtype: object\n"
          ]
        },
        {
          "name": "stderr",
          "output_type": "stream",
          "text": [
            "INFO:prophet:n_changepoints greater than number of observations. Using 15.\n"
          ]
        },
        {
          "name": "stdout",
          "output_type": "stream",
          "text": [
            "Itertaion: 18\n",
            " new df start: ds      04-05-2023\n",
            "y         0.012200\n",
            "yhat           NaN\n",
            "Name: 18, dtype: object\n",
            " new df end: ds      04-25-2023\n",
            "y         0.017400\n",
            "yhat      0.018146\n",
            "Name: 38, dtype: object\n"
          ]
        },
        {
          "name": "stderr",
          "output_type": "stream",
          "text": [
            "INFO:prophet:n_changepoints greater than number of observations. Using 15.\n"
          ]
        },
        {
          "name": "stdout",
          "output_type": "stream",
          "text": [
            "Itertaion: 19\n",
            " new df start: ds      04-06-2023\n",
            "y         0.012600\n",
            "yhat           NaN\n",
            "Name: 19, dtype: object\n",
            " new df end: ds      04-26-2023\n",
            "y         0.017300\n",
            "yhat      0.017529\n",
            "Name: 39, dtype: object\n"
          ]
        },
        {
          "name": "stderr",
          "output_type": "stream",
          "text": [
            "INFO:prophet:n_changepoints greater than number of observations. Using 15.\n"
          ]
        },
        {
          "name": "stdout",
          "output_type": "stream",
          "text": [
            "Itertaion: 20\n",
            " new df start: ds      04-07-2023\n",
            "y         0.013100\n",
            "yhat           NaN\n",
            "Name: 20, dtype: object\n",
            " new df end: ds      04-27-2023\n",
            "y         0.017400\n",
            "yhat      0.017117\n",
            "Name: 40, dtype: object\n"
          ]
        },
        {
          "name": "stderr",
          "output_type": "stream",
          "text": [
            "INFO:prophet:n_changepoints greater than number of observations. Using 15.\n"
          ]
        },
        {
          "name": "stdout",
          "output_type": "stream",
          "text": [
            "Itertaion: 21\n",
            " new df start: ds      04-08-2023\n",
            "y         0.013700\n",
            "yhat      0.013458\n",
            "Name: 21, dtype: object\n",
            " new df end: ds      04-28-2023\n",
            "y         0.017400\n",
            "yhat      0.017426\n",
            "Name: 41, dtype: object\n"
          ]
        },
        {
          "name": "stderr",
          "output_type": "stream",
          "text": [
            "INFO:prophet:n_changepoints greater than number of observations. Using 15.\n"
          ]
        },
        {
          "name": "stdout",
          "output_type": "stream",
          "text": [
            "Itertaion: 22\n",
            " new df start: ds      04-09-2023\n",
            "y         0.014300\n",
            "yhat      0.014098\n",
            "Name: 22, dtype: object\n",
            " new df end: ds      04-29-2023\n",
            "y         0.017500\n",
            "yhat      0.017404\n",
            "Name: 42, dtype: object\n"
          ]
        },
        {
          "name": "stderr",
          "output_type": "stream",
          "text": [
            "INFO:prophet:n_changepoints greater than number of observations. Using 15.\n"
          ]
        },
        {
          "name": "stdout",
          "output_type": "stream",
          "text": [
            "Itertaion: 23\n",
            " new df start: ds      04-10-2023\n",
            "y         0.014400\n",
            "yhat      0.014785\n",
            "Name: 23, dtype: object\n",
            " new df end: ds      04-30-2023\n",
            "y         0.017400\n",
            "yhat      0.017257\n",
            "Name: 43, dtype: object\n"
          ]
        },
        {
          "name": "stderr",
          "output_type": "stream",
          "text": [
            "INFO:prophet:n_changepoints greater than number of observations. Using 15.\n"
          ]
        },
        {
          "name": "stdout",
          "output_type": "stream",
          "text": [
            "Itertaion: 24\n",
            " new df start: ds      04-11-2023\n",
            "y         0.014900\n",
            "yhat      0.014916\n",
            "Name: 24, dtype: object\n",
            " new df end: ds      05-01-2023\n",
            "y         0.017500\n",
            "yhat      0.017492\n",
            "Name: 44, dtype: object\n"
          ]
        },
        {
          "name": "stderr",
          "output_type": "stream",
          "text": [
            "INFO:prophet:n_changepoints greater than number of observations. Using 15.\n"
          ]
        },
        {
          "name": "stdout",
          "output_type": "stream",
          "text": [
            "Itertaion: 25\n",
            " new df start: ds      04-12-2023\n",
            "y         0.015100\n",
            "yhat      0.015343\n",
            "Name: 25, dtype: object\n",
            " new df end: ds      05-02-2023\n",
            "y         0.017200\n",
            "yhat      0.017622\n",
            "Name: 45, dtype: object\n"
          ]
        },
        {
          "name": "stderr",
          "output_type": "stream",
          "text": [
            "INFO:prophet:n_changepoints greater than number of observations. Using 15.\n"
          ]
        },
        {
          "name": "stdout",
          "output_type": "stream",
          "text": [
            "Itertaion: 26\n",
            " new df start: ds      04-13-2023\n",
            "y         0.015100\n",
            "yhat       0.01553\n",
            "Name: 26, dtype: object\n",
            " new df end: ds      05-03-2023\n",
            "y         0.017400\n",
            "yhat      0.017311\n",
            "Name: 46, dtype: object\n"
          ]
        },
        {
          "name": "stderr",
          "output_type": "stream",
          "text": [
            "INFO:prophet:n_changepoints greater than number of observations. Using 15.\n"
          ]
        },
        {
          "name": "stdout",
          "output_type": "stream",
          "text": [
            "Itertaion: 27\n",
            " new df start: ds      04-14-2023\n",
            "y         0.015400\n",
            "yhat      0.015502\n",
            "Name: 27, dtype: object\n",
            " new df end: ds      05-04-2023\n",
            "y         0.017400\n",
            "yhat      0.017465\n",
            "Name: 47, dtype: object\n"
          ]
        },
        {
          "name": "stderr",
          "output_type": "stream",
          "text": [
            "INFO:prophet:n_changepoints greater than number of observations. Using 15.\n"
          ]
        },
        {
          "name": "stdout",
          "output_type": "stream",
          "text": [
            "Itertaion: 28\n",
            " new df start: ds      04-15-2023\n",
            "y         0.015700\n",
            "yhat      0.015821\n",
            "Name: 28, dtype: object\n",
            " new df end: ds      05-05-2023\n",
            "y         0.017200\n",
            "yhat      0.017483\n",
            "Name: 48, dtype: object\n"
          ]
        },
        {
          "name": "stderr",
          "output_type": "stream",
          "text": [
            "INFO:prophet:n_changepoints greater than number of observations. Using 15.\n"
          ]
        },
        {
          "name": "stdout",
          "output_type": "stream",
          "text": [
            "Itertaion: 29\n",
            " new df start: ds      04-16-2023\n",
            "y         0.015800\n",
            "yhat      0.016164\n",
            "Name: 29, dtype: object\n",
            " new df end: ds      05-06-2023\n",
            "y         0.017200\n",
            "yhat      0.017354\n",
            "Name: 49, dtype: object\n"
          ]
        },
        {
          "name": "stderr",
          "output_type": "stream",
          "text": [
            "INFO:prophet:n_changepoints greater than number of observations. Using 15.\n"
          ]
        },
        {
          "name": "stdout",
          "output_type": "stream",
          "text": [
            "Itertaion: 30\n",
            " new df start: ds      04-17-2023\n",
            "y         0.016100\n",
            "yhat       0.01591\n",
            "Name: 30, dtype: object\n",
            " new df end: ds      05-07-2023\n",
            "y         0.017400\n",
            "yhat      0.017042\n",
            "Name: 50, dtype: object\n"
          ]
        },
        {
          "name": "stderr",
          "output_type": "stream",
          "text": [
            "INFO:prophet:n_changepoints greater than number of observations. Using 15.\n"
          ]
        },
        {
          "name": "stdout",
          "output_type": "stream",
          "text": [
            "Itertaion: 31\n",
            " new df start: ds      04-18-2023\n",
            "y         0.016400\n",
            "yhat      0.016283\n",
            "Name: 31, dtype: object\n",
            " new df end: ds      05-08-2023\n",
            "y         0.017400\n",
            "yhat      0.017245\n",
            "Name: 51, dtype: object\n"
          ]
        },
        {
          "name": "stderr",
          "output_type": "stream",
          "text": [
            "INFO:prophet:n_changepoints greater than number of observations. Using 15.\n"
          ]
        },
        {
          "name": "stdout",
          "output_type": "stream",
          "text": [
            "Itertaion: 32\n",
            " new df start: ds      04-19-2023\n",
            "y         0.016800\n",
            "yhat      0.016578\n",
            "Name: 32, dtype: object\n",
            " new df end: ds      05-09-2023\n",
            "y         0.017400\n",
            "yhat      0.017161\n",
            "Name: 52, dtype: object\n"
          ]
        },
        {
          "name": "stderr",
          "output_type": "stream",
          "text": [
            "INFO:prophet:n_changepoints greater than number of observations. Using 15.\n"
          ]
        },
        {
          "name": "stdout",
          "output_type": "stream",
          "text": [
            "Itertaion: 33\n",
            " new df start: ds      04-20-2023\n",
            "y         0.017200\n",
            "yhat      0.016735\n",
            "Name: 33, dtype: object\n",
            " new df end: ds      05-10-2023\n",
            "y         0.017400\n",
            "yhat      0.017279\n",
            "Name: 53, dtype: object\n"
          ]
        },
        {
          "name": "stderr",
          "output_type": "stream",
          "text": [
            "INFO:prophet:n_changepoints greater than number of observations. Using 15.\n"
          ]
        },
        {
          "name": "stdout",
          "output_type": "stream",
          "text": [
            "Itertaion: 34\n",
            " new df start: ds      04-21-2023\n",
            "y         0.017600\n",
            "yhat      0.017492\n",
            "Name: 34, dtype: object\n",
            " new df end: ds      05-11-2023\n",
            "y         0.017400\n",
            "yhat      0.017361\n",
            "Name: 54, dtype: object\n"
          ]
        },
        {
          "name": "stderr",
          "output_type": "stream",
          "text": [
            "INFO:prophet:n_changepoints greater than number of observations. Using 15.\n"
          ]
        },
        {
          "name": "stdout",
          "output_type": "stream",
          "text": [
            "Itertaion: 35\n",
            " new df start: ds      04-22-2023\n",
            "y         0.017600\n",
            "yhat      0.018151\n",
            "Name: 35, dtype: object\n",
            " new df end: ds      05-12-2023\n",
            "y         0.017500\n",
            "yhat      0.017406\n",
            "Name: 55, dtype: object\n"
          ]
        },
        {
          "name": "stderr",
          "output_type": "stream",
          "text": [
            "INFO:prophet:n_changepoints greater than number of observations. Using 15.\n"
          ]
        },
        {
          "name": "stdout",
          "output_type": "stream",
          "text": [
            "Itertaion: 36\n",
            " new df start: ds      04-23-2023\n",
            "y         0.017400\n",
            "yhat      0.018195\n",
            "Name: 36, dtype: object\n",
            " new df end: ds      05-13-2023\n",
            "y         0.017500\n",
            "yhat      0.017574\n",
            "Name: 56, dtype: object\n"
          ]
        },
        {
          "name": "stderr",
          "output_type": "stream",
          "text": [
            "INFO:prophet:n_changepoints greater than number of observations. Using 15.\n"
          ]
        },
        {
          "name": "stdout",
          "output_type": "stream",
          "text": [
            "Itertaion: 37\n",
            " new df start: ds      04-24-2023\n",
            "y         0.017400\n",
            "yhat      0.018039\n",
            "Name: 37, dtype: object\n",
            " new df end: ds      05-14-2023\n",
            "y         0.017400\n",
            "yhat        0.0176\n",
            "Name: 57, dtype: object\n"
          ]
        },
        {
          "name": "stderr",
          "output_type": "stream",
          "text": [
            "INFO:prophet:n_changepoints greater than number of observations. Using 15.\n"
          ]
        },
        {
          "name": "stdout",
          "output_type": "stream",
          "text": [
            "Itertaion: 38\n",
            " new df start: ds      04-25-2023\n",
            "y         0.017400\n",
            "yhat      0.018146\n",
            "Name: 38, dtype: object\n",
            " new df end: ds      05-15-2023\n",
            "y         0.017300\n",
            "yhat      0.017554\n",
            "Name: 58, dtype: object\n"
          ]
        },
        {
          "name": "stderr",
          "output_type": "stream",
          "text": [
            "INFO:prophet:n_changepoints greater than number of observations. Using 15.\n"
          ]
        },
        {
          "name": "stdout",
          "output_type": "stream",
          "text": [
            "Itertaion: 39\n",
            " new df start: ds      04-26-2023\n",
            "y         0.017300\n",
            "yhat      0.017529\n",
            "Name: 39, dtype: object\n",
            " new df end: ds      05-16-2023\n",
            "y         0.017600\n",
            "yhat      0.017232\n",
            "Name: 59, dtype: object\n",
            "            ds         y      yhat\n",
            "0   03-18-2023  0.007800       NaN\n",
            "1   03-19-2023  0.007900       NaN\n",
            "2   03-20-2023  0.008000       NaN\n",
            "3   03-21-2023  0.008200       NaN\n",
            "4   03-22-2023  0.008400       NaN\n",
            "..         ...       ...       ...\n",
            "56  05-13-2023  0.017500  0.017574\n",
            "57  05-14-2023  0.017400  0.017600\n",
            "58  05-15-2023  0.017300  0.017554\n",
            "59  05-16-2023  0.017600  0.017232\n",
            "60  05-17-2023  0.017300  0.017517\n",
            "\n",
            "[61 rows x 3 columns]\n"
          ]
        }
      ],
      "source": [
        "# spots = {\"t2.small\": {\"cpu\": 1, \"memory\": 2, \"date\": \"2023-03-22\", \"cost\": 0.008}, \"t3.medium\": {\"cpu\": 2, \"memory\": 4, \"date\": \"2023-03-19\", \"cost\": 0.019}, \"m6g.medium\": {\"cpu\": 1, \"memory\": 4, \"date\": 22, \"cost\": 0.01}, \"c6a.large\": {\"cpu\": 2, \"memory\": 4, \"date\": 22, \"cost\": 0.01}, \"t4g.large\": {\"cpu\": 2, \"memory\": 8, \"date\": 22, \"cost\": 0.01}, \"c6g.xlarge\": {\"cpu\": 4, \"memory\": 8, \"date\": 22, \"cost\": 0.01}}\n",
        "# instances = list(spots.keys())\n",
        "# print(instances)\n",
        "# for i in instances:\n",
        "#   print(f'Instance: {i}')\n",
        "#   main(i)\n",
        "\n",
        "updated_df = main('t2.small')\n"
      ]
    },
    {
      "cell_type": "code",
      "execution_count": 18,
      "metadata": {},
      "outputs": [
        {
          "data": {
            "text/html": [
              "<div>\n",
              "<style scoped>\n",
              "    .dataframe tbody tr th:only-of-type {\n",
              "        vertical-align: middle;\n",
              "    }\n",
              "\n",
              "    .dataframe tbody tr th {\n",
              "        vertical-align: top;\n",
              "    }\n",
              "\n",
              "    .dataframe thead th {\n",
              "        text-align: right;\n",
              "    }\n",
              "</style>\n",
              "<table border=\"1\" class=\"dataframe\">\n",
              "  <thead>\n",
              "    <tr style=\"text-align: right;\">\n",
              "      <th></th>\n",
              "      <th>ds</th>\n",
              "      <th>y</th>\n",
              "      <th>yhat</th>\n",
              "    </tr>\n",
              "  </thead>\n",
              "  <tbody>\n",
              "    <tr>\n",
              "      <th>0</th>\n",
              "      <td>03-18-2023</td>\n",
              "      <td>0.007800</td>\n",
              "      <td>NaN</td>\n",
              "    </tr>\n",
              "    <tr>\n",
              "      <th>1</th>\n",
              "      <td>03-19-2023</td>\n",
              "      <td>0.007900</td>\n",
              "      <td>NaN</td>\n",
              "    </tr>\n",
              "    <tr>\n",
              "      <th>2</th>\n",
              "      <td>03-20-2023</td>\n",
              "      <td>0.008000</td>\n",
              "      <td>NaN</td>\n",
              "    </tr>\n",
              "    <tr>\n",
              "      <th>3</th>\n",
              "      <td>03-21-2023</td>\n",
              "      <td>0.008200</td>\n",
              "      <td>NaN</td>\n",
              "    </tr>\n",
              "    <tr>\n",
              "      <th>4</th>\n",
              "      <td>03-22-2023</td>\n",
              "      <td>0.008400</td>\n",
              "      <td>NaN</td>\n",
              "    </tr>\n",
              "    <tr>\n",
              "      <th>...</th>\n",
              "      <td>...</td>\n",
              "      <td>...</td>\n",
              "      <td>...</td>\n",
              "    </tr>\n",
              "    <tr>\n",
              "      <th>56</th>\n",
              "      <td>05-13-2023</td>\n",
              "      <td>0.017500</td>\n",
              "      <td>0.017574</td>\n",
              "    </tr>\n",
              "    <tr>\n",
              "      <th>57</th>\n",
              "      <td>05-14-2023</td>\n",
              "      <td>0.017400</td>\n",
              "      <td>0.017600</td>\n",
              "    </tr>\n",
              "    <tr>\n",
              "      <th>58</th>\n",
              "      <td>05-15-2023</td>\n",
              "      <td>0.017300</td>\n",
              "      <td>0.017554</td>\n",
              "    </tr>\n",
              "    <tr>\n",
              "      <th>59</th>\n",
              "      <td>05-16-2023</td>\n",
              "      <td>0.017600</td>\n",
              "      <td>0.017232</td>\n",
              "    </tr>\n",
              "    <tr>\n",
              "      <th>60</th>\n",
              "      <td>05-17-2023</td>\n",
              "      <td>0.017300</td>\n",
              "      <td>0.017517</td>\n",
              "    </tr>\n",
              "  </tbody>\n",
              "</table>\n",
              "<p>61 rows × 3 columns</p>\n",
              "</div>"
            ],
            "text/plain": [
              "            ds         y      yhat\n",
              "0   03-18-2023  0.007800       NaN\n",
              "1   03-19-2023  0.007900       NaN\n",
              "2   03-20-2023  0.008000       NaN\n",
              "3   03-21-2023  0.008200       NaN\n",
              "4   03-22-2023  0.008400       NaN\n",
              "..         ...       ...       ...\n",
              "56  05-13-2023  0.017500  0.017574\n",
              "57  05-14-2023  0.017400  0.017600\n",
              "58  05-15-2023  0.017300  0.017554\n",
              "59  05-16-2023  0.017600  0.017232\n",
              "60  05-17-2023  0.017300  0.017517\n",
              "\n",
              "[61 rows x 3 columns]"
            ]
          },
          "execution_count": 18,
          "metadata": {},
          "output_type": "execute_result"
        }
      ],
      "source": [
        "updated_df"
      ]
    },
    {
      "cell_type": "code",
      "execution_count": 19,
      "metadata": {},
      "outputs": [],
      "source": [
        "def plot2(df):\n",
        "    # Create a figure and axis\n",
        "    fig, ax = plt.subplots()\n",
        "    print(df)\n",
        "\n",
        "    # Plot the 'y' and 'y_hat' columns against the 'date' column\n",
        "    ax.plot(df['ds'], df['y'], label='Actual')\n",
        "    ax.plot(df['ds'], df['yhat'], label='Predicted')\n",
        "\n",
        "    # Set the x-axis label\n",
        "    ax.set_xlabel('Date')\n",
        "\n",
        "    # Set the y-axis label\n",
        "    ax.set_ylabel('Spot Price')\n",
        "\n",
        "    # Set the title of the plot\n",
        "    ax.set_title('Plot of actual and predicted')\n",
        "\n",
        "    # Display a legend\n",
        "    ax.legend()\n",
        "\n",
        "    # Rotate x-axis labels for better readability (optional)\n",
        "    plt.xticks(rotation=45)\n",
        "\n",
        "    # Display the plot\n",
        "    plt.show()"
      ]
    },
    {
      "cell_type": "code",
      "execution_count": 20,
      "metadata": {},
      "outputs": [
        {
          "name": "stderr",
          "output_type": "stream",
          "text": [
            "INFO:matplotlib.category:Using categorical units to plot a list of strings that are all parsable as floats or dates. If these strings should be plotted as numbers, cast to the appropriate data type before plotting.\n",
            "INFO:matplotlib.category:Using categorical units to plot a list of strings that are all parsable as floats or dates. If these strings should be plotted as numbers, cast to the appropriate data type before plotting.\n",
            "INFO:matplotlib.category:Using categorical units to plot a list of strings that are all parsable as floats or dates. If these strings should be plotted as numbers, cast to the appropriate data type before plotting.\n",
            "INFO:matplotlib.category:Using categorical units to plot a list of strings that are all parsable as floats or dates. If these strings should be plotted as numbers, cast to the appropriate data type before plotting.\n",
            "INFO:matplotlib.category:Using categorical units to plot a list of strings that are all parsable as floats or dates. If these strings should be plotted as numbers, cast to the appropriate data type before plotting.\n",
            "INFO:matplotlib.category:Using categorical units to plot a list of strings that are all parsable as floats or dates. If these strings should be plotted as numbers, cast to the appropriate data type before plotting.\n"
          ]
        },
        {
          "name": "stdout",
          "output_type": "stream",
          "text": [
            "            ds         y      yhat\n",
            "0   03-18-2023  0.007800       NaN\n",
            "1   03-19-2023  0.007900       NaN\n",
            "2   03-20-2023  0.008000       NaN\n",
            "3   03-21-2023  0.008200       NaN\n",
            "4   03-22-2023  0.008400       NaN\n",
            "..         ...       ...       ...\n",
            "56  05-13-2023  0.017500  0.017574\n",
            "57  05-14-2023  0.017400  0.017600\n",
            "58  05-15-2023  0.017300  0.017554\n",
            "59  05-16-2023  0.017600  0.017232\n",
            "60  05-17-2023  0.017300  0.017517\n",
            "\n",
            "[61 rows x 3 columns]\n"
          ]
        },
        {
          "data": {
            "image/png": "[encoded data removed]",
            "text/plain": [
              "<Figure size 432x288 with 1 Axes>"
            ]
          },
          "metadata": {
            "needs_background": "light"
          },
          "output_type": "display_data"
        }
      ],
      "source": [
        "plot2(updated_df)"
      ]
    },
    {
      "cell_type": "code",
      "execution_count": 21,
      "metadata": {},
      "outputs": [],
      "source": [
        "updated_df.to_csv('t2_small2.csv', index=False)"
      ]
    },
    {
      "cell_type": "code",
      "execution_count": null,
      "metadata": {},
      "outputs": [],
      "source": []
    }
  ],
  "metadata": {
    "colab": {
      "provenance": []
    },
    "kernelspec": {
      "display_name": "Python 3",
      "name": "python3"
    },
    "language_info": {
      "codemirror_mode": {
        "name": "ipython",
        "version": 3
      },
      "file_extension": ".py",
      "mimetype": "text/x-python",
      "name": "python",
      "nbconvert_exporter": "python",
      "pygments_lexer": "ipython3",
      "version": "3.8.10"
    }
  },
  "nbformat": 4,
  "nbformat_minor": 0
}
