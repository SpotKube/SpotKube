{
 "cells": [
  {
   "cell_type": "code",
   "execution_count": 9,
   "id": "3ab171a0",
   "metadata": {},
   "outputs": [],
   "source": [
    "import pandas as pd\n",
    "import matplotlib.pyplot as plt\n",
    "from sklearn.metrics import mean_squared_error\n",
    "import numpy as np"
   ]
  },
  {
   "cell_type": "code",
   "execution_count": 3,
   "id": "1f098f26",
   "metadata": {},
   "outputs": [],
   "source": [
    "df = pd.read_csv('t2_small2.csv')"
   ]
  },
  {
   "cell_type": "code",
   "execution_count": 4,
   "id": "2c4c6deb",
   "metadata": {},
   "outputs": [
    {
     "data": {
      "text/html": [
       "<div>\n",
       "<style scoped>\n",
       "    .dataframe tbody tr th:only-of-type {\n",
       "        vertical-align: middle;\n",
       "    }\n",
       "\n",
       "    .dataframe tbody tr th {\n",
       "        vertical-align: top;\n",
       "    }\n",
       "\n",
       "    .dataframe thead th {\n",
       "        text-align: right;\n",
       "    }\n",
       "</style>\n",
       "<table border=\"1\" class=\"dataframe\">\n",
       "  <thead>\n",
       "    <tr style=\"text-align: right;\">\n",
       "      <th></th>\n",
       "      <th>ds</th>\n",
       "      <th>y</th>\n",
       "      <th>yhat</th>\n",
       "    </tr>\n",
       "  </thead>\n",
       "  <tbody>\n",
       "    <tr>\n",
       "      <th>0</th>\n",
       "      <td>03-18-2023</td>\n",
       "      <td>0.0078</td>\n",
       "      <td>NaN</td>\n",
       "    </tr>\n",
       "    <tr>\n",
       "      <th>1</th>\n",
       "      <td>03-19-2023</td>\n",
       "      <td>0.0079</td>\n",
       "      <td>NaN</td>\n",
       "    </tr>\n",
       "    <tr>\n",
       "      <th>2</th>\n",
       "      <td>03-20-2023</td>\n",
       "      <td>0.0080</td>\n",
       "      <td>NaN</td>\n",
       "    </tr>\n",
       "    <tr>\n",
       "      <th>3</th>\n",
       "      <td>03-21-2023</td>\n",
       "      <td>0.0082</td>\n",
       "      <td>NaN</td>\n",
       "    </tr>\n",
       "    <tr>\n",
       "      <th>4</th>\n",
       "      <td>03-22-2023</td>\n",
       "      <td>0.0084</td>\n",
       "      <td>NaN</td>\n",
       "    </tr>\n",
       "    <tr>\n",
       "      <th>...</th>\n",
       "      <td>...</td>\n",
       "      <td>...</td>\n",
       "      <td>...</td>\n",
       "    </tr>\n",
       "    <tr>\n",
       "      <th>56</th>\n",
       "      <td>05-13-2023</td>\n",
       "      <td>0.0175</td>\n",
       "      <td>0.017574</td>\n",
       "    </tr>\n",
       "    <tr>\n",
       "      <th>57</th>\n",
       "      <td>05-14-2023</td>\n",
       "      <td>0.0174</td>\n",
       "      <td>0.017600</td>\n",
       "    </tr>\n",
       "    <tr>\n",
       "      <th>58</th>\n",
       "      <td>05-15-2023</td>\n",
       "      <td>0.0173</td>\n",
       "      <td>0.017554</td>\n",
       "    </tr>\n",
       "    <tr>\n",
       "      <th>59</th>\n",
       "      <td>05-16-2023</td>\n",
       "      <td>0.0176</td>\n",
       "      <td>0.017232</td>\n",
       "    </tr>\n",
       "    <tr>\n",
       "      <th>60</th>\n",
       "      <td>05-17-2023</td>\n",
       "      <td>0.0173</td>\n",
       "      <td>0.017517</td>\n",
       "    </tr>\n",
       "  </tbody>\n",
       "</table>\n",
       "<p>61 rows × 3 columns</p>\n",
       "</div>"
      ],
      "text/plain": [
       "            ds       y      yhat\n",
       "0   03-18-2023  0.0078       NaN\n",
       "1   03-19-2023  0.0079       NaN\n",
       "2   03-20-2023  0.0080       NaN\n",
       "3   03-21-2023  0.0082       NaN\n",
       "4   03-22-2023  0.0084       NaN\n",
       "..         ...     ...       ...\n",
       "56  05-13-2023  0.0175  0.017574\n",
       "57  05-14-2023  0.0174  0.017600\n",
       "58  05-15-2023  0.0173  0.017554\n",
       "59  05-16-2023  0.0176  0.017232\n",
       "60  05-17-2023  0.0173  0.017517\n",
       "\n",
       "[61 rows x 3 columns]"
      ]
     },
     "execution_count": 4,
     "metadata": {},
     "output_type": "execute_result"
    }
   ],
   "source": [
    "df"
   ]
  },
  {
   "cell_type": "code",
   "execution_count": 5,
   "id": "df81e430",
   "metadata": {},
   "outputs": [],
   "source": [
    "def plot2(df):\n",
    "    # Create a figure and axis\n",
    "    fig, ax = plt.subplots(figsize=(10, 6))  # Adjust the width and height as needed\n",
    "\n",
    "    print(df)\n",
    "\n",
    "    # Plot the 'y' and 'y_hat' columns against the 'date' column\n",
    "    ax.plot(df['ds'], df['y'], label='Actual')\n",
    "    ax.plot(df['ds'], df['yhat'], label='Predicted')\n",
    "\n",
    "    # Set the x-axis label\n",
    "    ax.set_xlabel('Date')\n",
    "\n",
    "    # Set the y-axis label\n",
    "    ax.set_ylabel('Spot Price')\n",
    "\n",
    "    # Set the title of the plot\n",
    "    ax.set_title('Actual vs Predicted Spot Price for t2-small in us-east 1')\n",
    "\n",
    "    # Display a legend\n",
    "    ax.legend()\n",
    "\n",
    "    # Rotate x-axis labels for better readability (optional)\n",
    "    plt.xticks(rotation=45)\n",
    "\n",
    "    # Display the plot\n",
    "    plt.show()\n",
    "    \n",
    "    plt.savefig('plot.png', dpi=300)  # Adjust the filename and dpi as needed"
   ]
  },
  {
   "cell_type": "code",
   "execution_count": 6,
   "id": "8d4388ef",
   "metadata": {},
   "outputs": [
    {
     "name": "stdout",
     "output_type": "stream",
     "text": [
      "            ds       y      yhat\n",
      "0   03-18-2023  0.0078       NaN\n",
      "1   03-19-2023  0.0079       NaN\n",
      "2   03-20-2023  0.0080       NaN\n",
      "3   03-21-2023  0.0082       NaN\n",
      "4   03-22-2023  0.0084       NaN\n",
      "..         ...     ...       ...\n",
      "56  05-13-2023  0.0175  0.017574\n",
      "57  05-14-2023  0.0174  0.017600\n",
      "58  05-15-2023  0.0173  0.017554\n",
      "59  05-16-2023  0.0176  0.017232\n",
      "60  05-17-2023  0.0173  0.017517\n",
      "\n",
      "[61 rows x 3 columns]\n"
     ]
    },
    {
     "data": {
      "image/png": "[encoded data removed]",
      "text/plain": [
       "<Figure size 720x432 with 1 Axes>"
      ]
     },
     "metadata": {
      "needs_background": "light"
     },
     "output_type": "display_data"
    },
    {
     "data": {
      "text/plain": [
       "<Figure size 432x288 with 0 Axes>"
      ]
     },
     "metadata": {},
     "output_type": "display_data"
    }
   ],
   "source": [
    "plot2(df)"
   ]
  },
  {
   "cell_type": "code",
   "execution_count": 11,
   "id": "4a141a9f",
   "metadata": {},
   "outputs": [
    {
     "name": "stdout",
     "output_type": "stream",
     "text": [
      "            ds       y      yhat\n",
      "21  04-08-2023  0.0137  0.013458\n",
      "22  04-09-2023  0.0143  0.014098\n",
      "23  04-10-2023  0.0144  0.014785\n",
      "24  04-11-2023  0.0149  0.014916\n",
      "25  04-12-2023  0.0151  0.015343\n",
      "26  04-13-2023  0.0151  0.015530\n",
      "27  04-14-2023  0.0154  0.015502\n",
      "28  04-15-2023  0.0157  0.015821\n",
      "29  04-16-2023  0.0158  0.016164\n",
      "30  04-17-2023  0.0161  0.015910\n",
      "31  04-18-2023  0.0164  0.016283\n",
      "32  04-19-2023  0.0168  0.016578\n",
      "33  04-20-2023  0.0172  0.016735\n",
      "34  04-21-2023  0.0176  0.017492\n",
      "35  04-22-2023  0.0176  0.018151\n",
      "36  04-23-2023  0.0174  0.018195\n",
      "37  04-24-2023  0.0174  0.018039\n",
      "38  04-25-2023  0.0174  0.018146\n",
      "39  04-26-2023  0.0173  0.017529\n",
      "40  04-27-2023  0.0174  0.017117\n",
      "41  04-28-2023  0.0174  0.017426\n",
      "42  04-29-2023  0.0175  0.017404\n",
      "43  04-30-2023  0.0174  0.017257\n",
      "44  05-01-2023  0.0175  0.017492\n",
      "45  05-02-2023  0.0172  0.017622\n",
      "46  05-03-2023  0.0174  0.017311\n",
      "47  05-04-2023  0.0174  0.017465\n",
      "48  05-05-2023  0.0172  0.017483\n",
      "49  05-06-2023  0.0172  0.017354\n",
      "50  05-07-2023  0.0174  0.017042\n",
      "51  05-08-2023  0.0174  0.017245\n",
      "52  05-09-2023  0.0174  0.017161\n",
      "53  05-10-2023  0.0174  0.017279\n",
      "54  05-11-2023  0.0174  0.017361\n",
      "55  05-12-2023  0.0175  0.017406\n",
      "56  05-13-2023  0.0175  0.017574\n",
      "57  05-14-2023  0.0174  0.017600\n",
      "58  05-15-2023  0.0173  0.017554\n",
      "59  05-16-2023  0.0176  0.017232\n",
      "60  05-17-2023  0.0173  0.017517\n",
      "Root Mean Squared Error: 0.0003105932052602915\n"
     ]
    }
   ],
   "source": [
    "df2 = df.dropna(subset=['yhat'])\n",
    "print(df2)\n",
    "# Calculate the mean squared error\n",
    "mse = mean_squared_error(df2['y'], df2['yhat'])\n",
    "\n",
    "rmse = np.sqrt(mse)\n",
    "\n",
    "print(\"Root Mean Squared Error:\", rmse)"
   ]
  },
  {
   "cell_type": "code",
   "execution_count": 12,
   "id": "fbaaf078",
   "metadata": {},
   "outputs": [
    {
     "name": "stdout",
     "output_type": "stream",
     "text": [
      "RMSE is smaller than the range of 'y'. The model's prediction errors are relatively small compared to the overall variation in the target variable.\n",
      "RMSE is smaller than the standard deviation of 'y'. The model's prediction errors are relatively low compared to the variability in the target variable.\n"
     ]
    }
   ],
   "source": [
    "# Assuming you have calculated the RMSE and stored it in 'rmse'\n",
    "# Assuming your dataset is stored in a pandas DataFrame named 'df' with the target variable 'y'\n",
    "\n",
    "# Calculate the range of the target variable\n",
    "range_y = np.max(df['y']) - np.min(df['y'])\n",
    "\n",
    "# Calculate the standard deviation of the target variable\n",
    "std_y = np.std(df['y'])\n",
    "\n",
    "# Compare the RMSE with the range and standard deviation\n",
    "if rmse < range_y:\n",
    "    print(\"RMSE is smaller than the range of 'y'. The model's prediction errors are relatively small compared to the overall variation in the target variable.\")\n",
    "else:\n",
    "    print(\"RMSE is larger than or equal to the range of 'y'. The model's prediction errors are relatively large compared to the overall variation in the target variable.\")\n",
    "\n",
    "if rmse < std_y:\n",
    "    print(\"RMSE is smaller than the standard deviation of 'y'. The model's prediction errors are relatively low compared to the variability in the target variable.\")\n",
    "else:\n",
    "    print(\"RMSE is larger than or equal to the standard deviation of 'y'. The model's prediction errors are relatively high compared to the variability in the target variable.\")\n"
   ]
  },
  {
   "cell_type": "code",
   "execution_count": null,
   "id": "58944bf1",
   "metadata": {},
   "outputs": [],
   "source": []
  }
 ],
 "metadata": {
  "kernelspec": {
   "display_name": "Python 3 (ipykernel)",
   "language": "python",
   "name": "python3"
  },
  "language_info": {
   "codemirror_mode": {
    "name": "ipython",
    "version": 3
   },
   "file_extension": ".py",
   "mimetype": "text/x-python",
   "name": "python",
   "nbconvert_exporter": "python",
   "pygments_lexer": "ipython3",
   "version": "3.8.10"
  }
 },
 "nbformat": 4,
 "nbformat_minor": 5
}
